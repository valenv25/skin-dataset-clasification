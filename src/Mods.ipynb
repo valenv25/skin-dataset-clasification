{
 "cells": [
  {
   "cell_type": "markdown",
   "id": "e091bd2e",
   "metadata": {},
   "source": [
    "## Actividades de modificación"
   ]
  },
  {
   "cell_type": "markdown",
   "id": "96ec8c0d",
   "metadata": {},
   "source": [
    "### Regularización"
   ]
  },
  {
   "cell_type": "markdown",
   "id": "ade61e3f",
   "metadata": {},
   "source": [
    "MLP con Dropout"
   ]
  },
  {
   "cell_type": "code",
   "execution_count": null,
   "id": "2ff99026",
   "metadata": {},
   "outputs": [],
   "source": [
    "class MLPDropout(nn.Module):\n",
    "\tdef __init__(self, input_size=64*64*3, num_classes=10, p=0.5):\n",
    "\t\tsuper().__init__()\n",
    "\t\tself.model = nn.Sequential(\n",
    "\t\t\tnn.Flatten(),\n",
    "\t\t\tnn.Linear(input_size, 512),\n",
    "\t\t\tnn.ReLU(),\n",
    "\t\t\tnn.Dropout(p),\n",
    "\t\t\tnn.Linear(512, 128),\n",
    "\t\t\tnn.ReLU(),\n",
    "\t\t\tnn.Dropout(p),\n",
    "\t\t\tnn.Linear(128, num_classes)\n",
    "\t\t)\n",
    "\n",
    "\tdef forward(self, x):\n",
    "\t\treturn self.model(x)"
   ]
  },
  {
   "cell_type": "markdown",
   "id": "6503fe13",
   "metadata": {},
   "source": [
    "MLP con BatchNorm"
   ]
  },
  {
   "cell_type": "code",
   "execution_count": null,
   "id": "3a107046",
   "metadata": {},
   "outputs": [],
   "source": [
    "class MLPBatchNorm(nn.Module):\n",
    "\tdef __init__(self, input_size=64*64*3, num_classes=10):\n",
    "\t\tsuper().__init__()\n",
    "\t\tself.model = nn.Sequential(\n",
    "\t\t\tnn.Flatten(),\n",
    "\t\t\tnn.Linear(input_size, 512),\n",
    "\t\t\tnn.BatchNorm1d(512),\n",
    "\t\t\tnn.ReLU(),\n",
    "\t\t\tnn.Linear(512, 128),\n",
    "\t\t\tnn.BatchNorm1d(128),\n",
    "\t\t\tnn.ReLU(),\n",
    "\t\t\tnn.Linear(128, num_classes)\n",
    "\t\t)\n",
    "\n",
    "\tdef forward(self, x):\n",
    "\t\treturn self.model(x)"
   ]
  },
  {
   "cell_type": "markdown",
   "id": "cfc63833",
   "metadata": {},
   "source": [
    "MLP con BatchNorm y Dropout"
   ]
  },
  {
   "cell_type": "code",
   "execution_count": null,
   "id": "e00b1e5f",
   "metadata": {},
   "outputs": [],
   "source": [
    "class MLPBatchNormDropout(nn.Module):\n",
    "\tdef __init__(self, input_size=64*64*3, num_classes=10, p=0.5):\n",
    "\t\tsuper().__init__()\n",
    "\t\tself.model = nn.Sequential(\n",
    "\t\t\tnn.Flatten(),\n",
    "\t\t\tnn.Linear(input_size, 512),\n",
    "\t\t\tnn.BatchNorm1d(512),\n",
    "\t\t\tnn.ReLU(),\n",
    "\t\t\tnn.Dropout(p),\n",
    "\t\t\tnn.Linear(512, 128),\n",
    "\t\t\tnn.BatchNorm1d(128),\n",
    "\t\t\tnn.ReLU(),\n",
    "\t\t\tnn.Dropout(p),\n",
    "\t\t\tnn.Linear(128, num_classes)\n",
    "\t\t)\n",
    "\n",
    "\tdef forward(self, x):\n",
    "\t\treturn self.model(x)\n",
    "\n",
    "# Hay que agregar:\n",
    "# mlflow.log_param(\"batchnorm\", True)\n",
    "# mlflow.log_param(\"dropout_p\", 0.5)"
   ]
  },
  {
   "cell_type": "markdown",
   "id": "59fce383",
   "metadata": {},
   "source": [
    "Optimizer con Weight Decay (L2)"
   ]
  },
  {
   "cell_type": "code",
   "execution_count": null,
   "id": "0d629f61",
   "metadata": {},
   "outputs": [],
   "source": [
    "optimizer_adv = optim.Adam(model.parameters(), lr=1e-3, weight_decay=1e-4)\n",
    "\n",
    "# Hay que agregar:\n",
    "# mlflow.log_param(\"weight_decay\", 1e-4)"
   ]
  },
  {
   "cell_type": "markdown",
   "id": "0465e867",
   "metadata": {},
   "source": [
    "Data Augmentation avanzado"
   ]
  },
  {
   "cell_type": "code",
   "execution_count": null,
   "id": "b5ec0b1f",
   "metadata": {},
   "outputs": [],
   "source": [
    "train_transform_adv = A.Compose([\n",
    "\tA.Resize(64, 64),\n",
    "\tA.HorizontalFlip(p=0.5),\n",
    "\t# A.VerticalFlip(p=0.5),\n",
    "\tA.RandomBrightnessContrast(p=0.2),\n",
    "\tA.ShiftScaleRotate(shift_limit=0.1, scale_limit=0.1, rotate_limit=15, p=0.5),\n",
    "\t# A.GaussNoise(var_limit=(10.0, 50.0), p=0.3),\n",
    "\tA.Normalize(),\n",
    "\tToTensorV2()\n",
    "])\n",
    "\n",
    "train_dataset_adv = CustomImageDataset(train_dir, transform=train_transform_adv)\n",
    "train_loader_adv = DataLoader(train_dataset_adv, batch_size=batch_size, shuffle=True)"
   ]
  },
  {
   "cell_type": "markdown",
   "id": "2fc643bb",
   "metadata": {},
   "source": [
    "Early Stopping"
   ]
  },
  {
   "cell_type": "code",
   "execution_count": null,
   "id": "9e845472",
   "metadata": {},
   "outputs": [],
   "source": [
    "best_val_loss = float('inf')\n",
    "patience = 5\n",
    "counter = 0\n",
    "\n",
    "for epoch in range(n_epochs):\n",
    "\ttrain_and_validate(model, train_loader, val_loader, criterion, optimizer, n_epochs=10, batch_size=batch_size)\n",
    "\tval_loss, val_acc = evaluate(model, val_loader, epoch=epoch, prefix=\"val\")\n",
    "\tif val_loss < best_val_loss:\n",
    "\t\tbest_val_loss = val_loss\n",
    "\t\tcounter = 0\n",
    "\t\ttorch.save(model.state_dict(), \"best_model.pth\")\n",
    "\telse:\n",
    "\t\tcounter += 1\n",
    "\t\tif counter >= patience:\n",
    "\t\t\tprint(f\"Early stopping en epoch {epoch+1}\")\n",
    "\t\t\tbreak"
   ]
  },
  {
   "cell_type": "markdown",
   "id": "e6e28156",
   "metadata": {},
   "source": [
    "### Inicialización de Parámetros"
   ]
  },
  {
   "cell_type": "code",
   "execution_count": null,
   "id": "f53ecf3e",
   "metadata": {},
   "outputs": [],
   "source": [
    "# Inicialización manual de pesos\n",
    "class MLPInit(nn.Module):\n",
    "\tdef __init__(self, input_size=64*64*3, num_classes=10, init_type='he'):\n",
    "\t\tsuper().__init__()\n",
    "\t\tself.model = nn.Sequential(\n",
    "\t\t\tnn.Flatten(),\n",
    "\t\t\tnn.Linear(input_size, 512),\n",
    "\t\t\tnn.ReLU(),\n",
    "\t\t\tnn.Linear(512, 128),\n",
    "\t\t\tnn.ReLU(),\n",
    "\t\t\tnn.Linear(128, num_classes)\n",
    "\t\t)\n",
    "\t\tself.init_weights(init_type)\n",
    "\n",
    "\tdef forward(self, x):\n",
    "\t\treturn self.model(x)\n",
    "\n",
    "\tdef init_weights(self, init_type):\n",
    "\t\tfor m in self.modules():\n",
    "\t\t\tif isinstance(m, nn.Linear):\n",
    "\t\t\t\tif init_type == 'he':\n",
    "\t\t\t\t\tnn.init.kaiming_normal_(m.weight)\n",
    "\t\t\t\telif init_type == 'xavier':\n",
    "\t\t\t\t\tnn.init.xavier_uniform_(m.weight)\n",
    "\t\t\t\tif m.bias is not None:\n",
    "\t\t\t\t\tnn.init.zeros_(m.bias)\n",
    "\n",
    "# Hay que agregar:\n",
    "# mlflow.log_param(\"init_type\", \"he\")"
   ]
  },
  {
   "cell_type": "code",
   "execution_count": null,
   "id": "880081bf",
   "metadata": {},
   "outputs": [],
   "source": [
    "# Visualización de pesos\n",
    "for name, param in model.named_parameters():\n",
    "\tif 'weight' in name:\n",
    "\t\twriter.add_histogram(name, param, epoch)"
   ]
  },
  {
   "cell_type": "markdown",
   "id": "c6d19ea6",
   "metadata": {},
   "source": [
    "## Pruebas"
   ]
  },
  {
   "cell_type": "code",
   "execution_count": null,
   "id": "8e8b77f1",
   "metadata": {},
   "outputs": [],
   "source": [
    "variantes = [\n",
    "\t\"base\",\n",
    "\t# \"pocas_imagenes\",\n",
    "\t# \"grises\",\n",
    "\t\"dropout\",\n",
    "\t\"batchnorm\",\n",
    "\t\"batchnorm_dropout\",\n",
    "\t\"weight_decay\",\n",
    "\t\"augmentation\",\n",
    "\t\"init_he\",\n",
    "\t\"init_xavier\",\n",
    "\t\"histogramas\"\n",
    "]\n",
    "\n",
    "for var in variantes:\n",
    "\tprint(f\"Entrenando variante: {var}\")\n",
    "\t\n",
    "\tif var == \"base\" or var == \"weight_decay\" or var == \"augmentation\" or var == \"histogramas\":\n",
    "\t\tmodel = MLPClassifier(num_classes=num_classes).to(device)\n",
    "\t# elif var == \"grises\":\n",
    "\t# elif var == \"pocas_imagenes\":\n",
    "\telif var == \"init_he\":\n",
    "\t\tmodel = MLPInit(init_type='he', num_classes=num_classes).to(device)\n",
    "\telif var == \"init_xavier\":\n",
    "\t\tmodel = MLPInit(init_type='xavier', num_classes=num_classes).to(device)\n",
    "\telif var == \"dropout\":\n",
    "\t\tmodel = MLPDropout(num_classes=num_classes).to(device)\n",
    "\telif var == \"batchnorm\":\n",
    "\t\tmodel = MLPBatchNorm(num_classes=num_classes).to(device)\n",
    "\telif var == \"batchnorm_dropout\":\n",
    "\t\tmodel = MLPBatchNormDropout(num_classes=num_classes).to(device)\n",
    "\telse:\n",
    "\t\traise ValueError(f\"Variante '{var}' no reconocida.\")\n",
    "\n",
    "\tif var == \"weight_decay\":\n",
    "\t\toptimizer = optim.Adam(model.parameters(), lr=1e-3, weight_decay=1e-4)\n",
    "\telse:\n",
    "\t\toptimizer = optim.Adam(model.parameters(), lr=1e-3)\n",
    "\tif var == \"augmentation\":\n",
    "\t\ttrain_loader = train_loader_adv\n",
    "\n",
    "\twriter = SummaryWriter(log_dir=f\"runs/experimento_{var}\")\n",
    "\t\n",
    "\tfor epoch in range(n_epochs):\n",
    "\t\t# Train...\n",
    "\t\t# writer.add_scalar(...)\n",
    "\t\tif var == \"histogramas\":\n",
    "\t\t\t# Histogramas de pesos\n",
    "\t\t\tfor name, param in model.named_parameters():\n",
    "\t\t\t\tif 'weight' in name:\n",
    "\t\t\t\t\twriter.add_histogram(name, param, epoch)\n",
    "\t\n",
    "\ttorch.save(model.state_dict(), f\"mlp_{var}.pth\")\n",
    "\tmlflow.log_param(\"variante\", var)\n",
    "\tmlflow.log_artifact(f\"mlp_{var}.pth\")\n",
    "\t\n",
    "\twriter.close()\n",
    "\tprint(f\"Variante {var} entrenada y guardada.\\n\")"
   ]
  },
  {
   "cell_type": "code",
   "execution_count": null,
   "id": "f85e7284",
   "metadata": {},
   "outputs": [],
   "source": [
    "# import pandas as pd\n",
    "# import matplotlib.pyplot as plt\n",
    "# results = pd.read_csv(\"resultados_experimentos.csv\")\n",
    "# display(results.sort_values(\"val_accuracy\", ascending=False))\n",
    "# variantes = [\"Base\", \"Dropout\", \"BatchNorm\", \"Dropout+BatchNorm\", \"Init He\", \"Init Xavier\", \"L2\", \"Augment\", \"Grises\"]\n",
    "# plt.figure(figsize=(10,5))\n",
    "# plt.bar(variantes, results.sort_values(\"val_accuracy\", ascending=False)[\"val_accuracy\"], color='skyblue')\n",
    "# plt.ylabel(\"Validation Accuracy\")\n",
    "# plt.title(\"Comparación de variantes MLP\")\n",
    "# plt.xticks(rotation=45)\n",
    "# plt.show()"
   ]
  }
 ],
 "metadata": {
  "kernelspec": {
   "display_name": "Python 3",
   "language": "python",
   "name": "python3"
  },
  "language_info": {
   "codemirror_mode": {
    "name": "ipython",
    "version": 3
   },
   "file_extension": ".py",
   "mimetype": "text/x-python",
   "name": "python",
   "nbconvert_exporter": "python",
   "pygments_lexer": "ipython3",
   "version": "3.12.6"
  }
 },
 "nbformat": 4,
 "nbformat_minor": 5
}
